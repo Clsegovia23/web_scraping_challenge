{
 "cells": [
  {
   "cell_type": "code",
   "execution_count": 1,
   "id": "817ae49c",
   "metadata": {},
   "outputs": [
    {
     "name": "stdout",
     "output_type": "stream",
     "text": [
      "Requirement already satisfied: flask_pymongo in c:\\users\\clseg\\anaconda3\\lib\\site-packages (2.3.0)\n",
      "Requirement already satisfied: Flask>=0.11 in c:\\users\\clseg\\anaconda3\\lib\\site-packages (from flask_pymongo) (1.1.2)\n",
      "Requirement already satisfied: PyMongo>=3.3 in c:\\users\\clseg\\anaconda3\\lib\\site-packages (from flask_pymongo) (3.12.0)\n",
      "Requirement already satisfied: itsdangerous>=0.24 in c:\\users\\clseg\\anaconda3\\lib\\site-packages (from Flask>=0.11->flask_pymongo) (1.1.0)\n",
      "Requirement already satisfied: Werkzeug>=0.15 in c:\\users\\clseg\\anaconda3\\lib\\site-packages (from Flask>=0.11->flask_pymongo) (1.0.1)\n",
      "Requirement already satisfied: Jinja2>=2.10.1 in c:\\users\\clseg\\anaconda3\\lib\\site-packages (from Flask>=0.11->flask_pymongo) (2.11.3)\n",
      "Requirement already satisfied: click>=5.1 in c:\\users\\clseg\\anaconda3\\lib\\site-packages (from Flask>=0.11->flask_pymongo) (7.1.2)\n",
      "Requirement already satisfied: MarkupSafe>=0.23 in c:\\users\\clseg\\anaconda3\\lib\\site-packages (from Jinja2>=2.10.1->Flask>=0.11->flask_pymongo) (1.1.1)\n"
     ]
    }
   ],
   "source": [
    "# Dependencies\n",
    "from bs4 import BeautifulSoup as bs\n",
    "import requests\n",
    "import pymongo\n",
    "from splinter import Browser\n",
    "from flask import Flask, render_template, redirect\n",
    "!pip install flask_pymongo\n",
    "from flask_pymongo import PyMongo\n",
    "import pandas as pd\n",
    "from selenium import webdriver\n",
    "from webdriver_manager.chrome import ChromeDriverManager\n",
    "import time"
   ]
  },
  {
   "cell_type": "code",
   "execution_count": 2,
   "id": "072a514d",
   "metadata": {},
   "outputs": [
    {
     "name": "stderr",
     "output_type": "stream",
     "text": [
      "\n",
      "\n",
      "====== WebDriver manager ======\n",
      "Current google-chrome version is 99.0.4844\n",
      "Get LATEST driver version for 99.0.4844\n",
      "Driver [C:\\Users\\clseg\\.wdm\\drivers\\chromedriver\\win32\\99.0.4844.51\\chromedriver.exe] found in cache\n"
     ]
    }
   ],
   "source": [
    "# Set up Splinter\n",
    "executable_path = {'executable_path': ChromeDriverManager().install()}\n",
    "browser = Browser('chrome', **executable_path, headless=False)"
   ]
  },
  {
   "cell_type": "markdown",
   "id": "51a0e980",
   "metadata": {},
   "source": [
    "# Step 1 - Scraping\n",
    "# NASA Mars News\n",
    "Scrape the NASA Mars News Site and collect the latest News Title and Paragraph Text.\n",
    "Assign the text to variables that you can reference later."
   ]
  },
  {
   "cell_type": "code",
   "execution_count": 3,
   "id": "2239fbfe",
   "metadata": {},
   "outputs": [],
   "source": [
    "# URL of page to be scraped -- Latest news\n",
    "news_url = 'https://mars.nasa.gov/news/'\n",
    "browser.visit(news_url)\n",
    "\n",
    "# Scrape page with Beautiful Soup\n",
    "html=browser.html\n",
    "soup=bs(html,'html.parser')"
   ]
  },
  {
   "cell_type": "code",
   "execution_count": 4,
   "id": "343714fe",
   "metadata": {},
   "outputs": [],
   "source": [
    "# Extract article title and paragraph\n",
    "new_title = soup.find('div', class_=\"content_title\").get_text(strip=True)\n",
    "news_p = soup.find(\"div\", class_=\"article_teaser_body\").get_text(strip=True)\n",
    "# article"
   ]
  },
  {
   "cell_type": "markdown",
   "id": "9c39a949",
   "metadata": {},
   "source": [
    "# JPL Mars Space Images - Featured Image"
   ]
  },
  {
   "cell_type": "code",
   "execution_count": 5,
   "id": "7e47b69f",
   "metadata": {},
   "outputs": [],
   "source": [
    "# URl for images\n",
    "image_url=\"https://spaceimages-mars.com/\"\n",
    "browser.visit(image_url)\n",
    "time.sleep(1)"
   ]
  },
  {
   "cell_type": "code",
   "execution_count": 6,
   "id": "ab5538db",
   "metadata": {},
   "outputs": [
    {
     "data": {
      "text/plain": [
       "'https://spaceimages-mars.com/image/featured/mars2.jpg'"
      ]
     },
     "execution_count": 6,
     "metadata": {},
     "output_type": "execute_result"
    }
   ],
   "source": [
    "# Create soup object from HTML\n",
    "html=browser.html\n",
    "# Parse HTML\n",
    "soup=bs(html,\"html.parser\")\n",
    "# Retrieve image url\n",
    "relative_image_path=soup.find('img', class_=\"headerimage fade-in\")[\"src\"]\n",
    "featured_image_url= image_url + relative_image_path\n",
    "featured_image_url\n"
   ]
  },
  {
   "cell_type": "markdown",
   "id": "86635ecf",
   "metadata": {},
   "source": [
    "# Mars Facts"
   ]
  },
  {
   "cell_type": "code",
   "execution_count": 7,
   "id": "1371386c",
   "metadata": {},
   "outputs": [],
   "source": [
    "# ULR for Mars Facts webpage \n",
    "facts_url = \"https://galaxyfacts-mars.com/\"\n",
    "browser.visit(facts_url)\n",
    "time.sleep(1)"
   ]
  },
  {
   "cell_type": "code",
   "execution_count": 8,
   "id": "66463261",
   "metadata": {},
   "outputs": [],
   "source": [
    "# Create soup object from HTML\n",
    "html=browser.html\n"
   ]
  },
  {
   "cell_type": "code",
   "execution_count": 9,
   "id": "a7d715d9",
   "metadata": {},
   "outputs": [
    {
     "data": {
      "text/html": [
       "<div>\n",
       "<style scoped>\n",
       "    .dataframe tbody tr th:only-of-type {\n",
       "        vertical-align: middle;\n",
       "    }\n",
       "\n",
       "    .dataframe tbody tr th {\n",
       "        vertical-align: top;\n",
       "    }\n",
       "\n",
       "    .dataframe thead th {\n",
       "        text-align: right;\n",
       "    }\n",
       "</style>\n",
       "<table border=\"1\" class=\"dataframe\">\n",
       "  <thead>\n",
       "    <tr style=\"text-align: right;\">\n",
       "      <th></th>\n",
       "      <th>Value</th>\n",
       "    </tr>\n",
       "    <tr>\n",
       "      <th>Description</th>\n",
       "      <th></th>\n",
       "    </tr>\n",
       "  </thead>\n",
       "  <tbody>\n",
       "    <tr>\n",
       "      <th>Equatorial Diameter:</th>\n",
       "      <td>6,792 km</td>\n",
       "    </tr>\n",
       "    <tr>\n",
       "      <th>Polar Diameter:</th>\n",
       "      <td>6,752 km</td>\n",
       "    </tr>\n",
       "    <tr>\n",
       "      <th>Mass:</th>\n",
       "      <td>6.39 × 10^23 kg (0.11 Earths)</td>\n",
       "    </tr>\n",
       "    <tr>\n",
       "      <th>Moons:</th>\n",
       "      <td>2 ( Phobos &amp; Deimos )</td>\n",
       "    </tr>\n",
       "    <tr>\n",
       "      <th>Orbit Distance:</th>\n",
       "      <td>227,943,824 km (1.38 AU)</td>\n",
       "    </tr>\n",
       "    <tr>\n",
       "      <th>Orbit Period:</th>\n",
       "      <td>687 days (1.9 years)</td>\n",
       "    </tr>\n",
       "    <tr>\n",
       "      <th>Surface Temperature:</th>\n",
       "      <td>-87 to -5 °C</td>\n",
       "    </tr>\n",
       "    <tr>\n",
       "      <th>First Record:</th>\n",
       "      <td>2nd millennium BC</td>\n",
       "    </tr>\n",
       "    <tr>\n",
       "      <th>Recorded By:</th>\n",
       "      <td>Egyptian astronomers</td>\n",
       "    </tr>\n",
       "  </tbody>\n",
       "</table>\n",
       "</div>"
      ],
      "text/plain": [
       "                                              Value\n",
       "Description                                        \n",
       "Equatorial Diameter:                       6,792 km\n",
       "Polar Diameter:                            6,752 km\n",
       "Mass:                 6.39 × 10^23 kg (0.11 Earths)\n",
       "Moons:                        2 ( Phobos & Deimos )\n",
       "Orbit Distance:            227,943,824 km (1.38 AU)\n",
       "Orbit Period:                  687 days (1.9 years)\n",
       "Surface Temperature:                   -87 to -5 °C\n",
       "First Record:                     2nd millennium BC\n",
       "Recorded By:                   Egyptian astronomers"
      ]
     },
     "execution_count": 9,
     "metadata": {},
     "output_type": "execute_result"
    }
   ],
   "source": [
    "# Pandas to scrape the table containing facts about Mars\n",
    "table = pd.read_html(facts_url)\n",
    "mars_facts = table[1]\n",
    "\n",
    "# Rename columns\n",
    "mars_facts.columns = ['Description','Value']\n",
    "\n",
    "# Reset Index to be description\n",
    "mars_facts.set_index('Description', inplace=True)\n",
    "mars_facts"
   ]
  },
  {
   "cell_type": "code",
   "execution_count": 12,
   "id": "04f037dc",
   "metadata": {},
   "outputs": [],
   "source": [
    "# Use Pandas to convert to a HTML table\n",
    "fact_table=mars_facts.to_html('table.html')\n"
   ]
  },
  {
   "cell_type": "markdown",
   "id": "6786aede",
   "metadata": {},
   "source": [
    "# Mars Hemispheres"
   ]
  },
  {
   "cell_type": "code",
   "execution_count": 24,
   "id": "ee2fc1dd",
   "metadata": {},
   "outputs": [],
   "source": [
    "# Visit URL to get Mars hemisphere images\n",
    "hemi_url = \"https://marshemispheres.com/\"\n",
    "browser.visit(hemi_url)"
   ]
  },
  {
   "cell_type": "code",
   "execution_count": 25,
   "id": "6baed5ba",
   "metadata": {},
   "outputs": [
    {
     "data": {
      "text/plain": [
       "[{'title': 'Cerberus Hemisphere Enhanced',\n",
       "  'img_url': 'https://marshemispheres.com/images/f5e372a36edfa389625da6d0cc25d905_cerberus_enhanced.tif_full.jpg'},\n",
       " {'title': 'Schiaparelli Hemisphere Enhanced',\n",
       "  'img_url': 'https://marshemispheres.com/images/3778f7b43bbbc89d6e3cfabb3613ba93_schiaparelli_enhanced.tif_full.jpg'},\n",
       " {'title': 'Syrtis Major Hemisphere Enhanced',\n",
       "  'img_url': 'https://marshemispheres.com/images/555e6403a6ddd7ba16ddb0e471cadcf7_syrtis_major_enhanced.tif_full.jpg'},\n",
       " {'title': 'Valles Marineris Hemisphere Enhanced',\n",
       "  'img_url': 'https://marshemispheres.com/images/b3c7c6c9138f57b4756be9b9c43e3a48_valles_marineris_enhanced.tif_full.jpg'}]"
      ]
     },
     "execution_count": 25,
     "metadata": {},
     "output_type": "execute_result"
    }
   ],
   "source": [
    "#Container to hold  our loop iterations\n",
    "all_urls = []\n",
    "\n",
    "#Iterate through the 4 links to get the images needed\n",
    "for x in range(4):\n",
    "    html = browser.html\n",
    "    soup = bs(html, \"html.parser\")\n",
    "    \n",
    "    title = soup.find_all(\"h3\")[x].get_text()\n",
    "    browser.find_by_tag(\"h3\")[x].click()\n",
    "    \n",
    "    html = browser.html\n",
    "    soup = bs(html, \"html.parser\")\n",
    "    \n",
    "    img_url = soup.find(\"img\", class_=\"wide-image\")[\"src\"]\n",
    "    all_urls.append({\n",
    "        \"title\":title,\n",
    "        \"img_url\": hemi_url+img_url\n",
    "    })\n",
    "    browser.back()\n",
    "all_urls"
   ]
  },
  {
   "cell_type": "code",
   "execution_count": null,
   "id": "657c9f2e",
   "metadata": {},
   "outputs": [],
   "source": []
  }
 ],
 "metadata": {
  "kernelspec": {
   "display_name": "Python 3",
   "language": "python",
   "name": "python3"
  },
  "language_info": {
   "codemirror_mode": {
    "name": "ipython",
    "version": 3
   },
   "file_extension": ".py",
   "mimetype": "text/x-python",
   "name": "python",
   "nbconvert_exporter": "python",
   "pygments_lexer": "ipython3",
   "version": "3.8.8"
  }
 },
 "nbformat": 4,
 "nbformat_minor": 5
}
